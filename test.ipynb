{
 "cells": [
  {
   "cell_type": "code",
   "execution_count": 6,
   "metadata": {
    "collapsed": false,
    "deletable": true,
    "editable": true
   },
   "outputs": [],
   "source": [
    "%matplotlib inline\n",
    "from preprocess import get_data, extract_samples_from_rows, create_aug_img_pipeline, plot_data, plot_img"
   ]
  },
  {
   "cell_type": "code",
   "execution_count": 7,
   "metadata": {
    "collapsed": false,
    "deletable": true,
    "editable": true
   },
   "outputs": [
    {
     "name": "stdout",
     "output_type": "stream",
     "text": [
      "extracted 1458 samples from recovery.\n",
      "extracted 7874 samples from drive.\n",
      "extracted 9332 samples total.\n",
      "3014 samples dropped based on 0 rules\n",
      "18954\n"
     ]
    },
    {
     "data": {
      "image/png": "[encoded data removed]",
      "text/plain": [
       "<matplotlib.figure.Figure at 0x11250e898>"
      ]
     },
     "metadata": {},
     "output_type": "display_data"
    }
   ],
   "source": [
    "data, count = get_data()\n",
    "\n",
    "#g = generate_batch(data, fake=True, flipit=True, rand_camera=True)\n",
    "\n",
    "images, steers = [], []\n",
    "\n",
    "# for el in g:\n",
    "#     images.extend(el[0])\n",
    "#     steers.extend(el[1])\n",
    "#     if len(images) >= count:\n",
    "#         break\n",
    "\n",
    "images, steers = extract_samples_from_rows(data, [0, 1, 2], [0, -0.15, 0.15], fake=True, )#rand=True)\n",
    "\n",
    "print (len(steers))\n",
    "\n",
    "aug_image = create_aug_img_pipeline(accepted_angles=[0, 0.15, -0.15], fake=True)\n",
    "\n",
    "plot_data(steers)\n",
    "\n"
   ]
  },
  {
   "cell_type": "code",
   "execution_count": 8,
   "metadata": {
    "collapsed": false,
    "deletable": true,
    "editable": true
   },
   "outputs": [
    {
     "name": "stdout",
     "output_type": "stream",
     "text": [
      "18954\n"
     ]
    },
    {
     "data": {
      "image/png": "[encoded data removed]",
      "text/plain": [
       "<matplotlib.figure.Figure at 0x1123ba0b8>"
      ]
     },
     "metadata": {},
     "output_type": "display_data"
    }
   ],
   "source": [
    "images_a, steers_a = zip(*list(map(aug_image, images, steers)))\n",
    "print (len(steers))\n",
    "plot_data(steers_a)\n",
    "#plot_img(images_a[0])\n",
    "#plot_img(images[0])\n",
    "#print (images_a[0].shape)"
   ]
  },
  {
   "cell_type": "code",
   "execution_count": null,
   "metadata": {
    "collapsed": false
   },
   "outputs": [],
   "source": [
    "print(images_a[10])"
   ]
  },
  {
   "cell_type": "code",
   "execution_count": null,
   "metadata": {
    "collapsed": false,
    "deletable": true,
    "editable": true
   },
   "outputs": [],
   "source": [
    "import pandas as pd\n",
    "column_names = ['center', 'left', 'right',\n",
    "                'steering', 'throttle', 'brake', 'speed']\n",
    "data_df = pd.read_csv('data/data_ori/driving_log.csv', skiprows=[0], names=column_names)\n",
    "data_df.iloc[:5]\n",
    "\n",
    "data_df['steering'][:5]\n"
   ]
  },
  {
   "cell_type": "code",
   "execution_count": null,
   "metadata": {
    "collapsed": false,
    "deletable": true,
    "editable": true
   },
   "outputs": [],
   "source": [
    "import matplotlib.pyplot as plt\n",
    "#plt.figure()\n",
    "#data_df['steering'].plot.figure()\n",
    "data_df['steering'].plot.hist(bins=25)\n",
    "plt.show()"
   ]
  },
  {
   "cell_type": "code",
   "execution_count": null,
   "metadata": {
    "collapsed": false,
    "deletable": true,
    "editable": true
   },
   "outputs": [],
   "source": [
    "TAN_CORRECT = 25\n",
    "aug_image = create_aug_img_pipeline(fake=True, accepted_angles=[0, 0.15, -0.15])\n",
    "plot_data(steers)"
   ]
  },
  {
   "cell_type": "code",
   "execution_count": null,
   "metadata": {
    "collapsed": false,
    "deletable": true,
    "editable": true
   },
   "outputs": [],
   "source": [
    "images_a, steers_a = zip(*list(map(aug_image, images, steers)))\n",
    "plot_data(steers_a)"
   ]
  },
  {
   "cell_type": "code",
   "execution_count": null,
   "metadata": {
    "collapsed": false,
    "deletable": true,
    "editable": true
   },
   "outputs": [],
   "source": [
    "# print(images_a[0].shape)\n",
    "#print (sum(map(abs, rotate_net))/len(rotate_net))\n",
    "print (len(steers))"
   ]
  },
  {
   "cell_type": "code",
   "execution_count": null,
   "metadata": {
    "collapsed": false,
    "deletable": true,
    "editable": true
   },
   "outputs": [],
   "source": [
    "plot_img(images_a[20])"
   ]
  },
  {
   "cell_type": "code",
   "execution_count": null,
   "metadata": {
    "collapsed": false,
    "deletable": true,
    "editable": true
   },
   "outputs": [],
   "source": [
    "import keras\n",
    "from keras.models import Sequential\n",
    "from keras.layers import Dense, Flatten, Lambda, Cropping2D, Convolution2D, MaxPooling2D, Dropout, Activation\n",
    "def create_new_model():\n",
    "    model = Sequential()\n",
    "    model.add(Lambda(lambda x: x / 127.5 - 1.,\n",
    "              input_shape=(34, 160, 3),))\n",
    "    model.add(Convolution2D(24, 5, 5, subsample=(2, 2), border_mode=\"same\"))\n",
    "    model.add(Activation('relu'))\n",
    "    model.add(Dropout(.5))\n",
    "    model.add(MaxPooling2D(pool_size=(2, 2), strides=(1, 1)))\n",
    "\n",
    "    model.add(Convolution2D(36, 5, 5, subsample=(2, 2), border_mode=\"same\"))\n",
    "    model.add(Activation('relu'))\n",
    "    model.add(Dropout(.5))\n",
    "    model.add(MaxPooling2D(pool_size=(2, 2), strides=(1, 1)))\n",
    "\n",
    "    model.add(Convolution2D(48, 5, 5, subsample=(2, 2), border_mode=\"same\"))\n",
    "    model.add(Activation('relu'))\n",
    "    model.add(Dropout(.5))\n",
    "    model.add(MaxPooling2D(pool_size=(2, 2), strides=(1, 1)))\n",
    "\n",
    "    model.add(Convolution2D(64, 3, 3, border_mode=\"same\"))\n",
    "    model.add(Activation('relu'))\n",
    "    model.add(Dropout(.5))\n",
    "    model.add(MaxPooling2D(pool_size=(2, 2), strides=(1, 1)))\n",
    "\n",
    "    model.add(Convolution2D(64, 3, 3, border_mode=\"same\"))\n",
    "    model.add(Activation('relu'))\n",
    "    model.add(Dropout(.5))\n",
    "    model.add(MaxPooling2D(pool_size=(2, 2), strides=(1, 1)))\n",
    "\n",
    "    model.add(Flatten())\n",
    "    model.add(Dropout(.2))\n",
    "    model.add(Activation('relu'))\n",
    "    model.add(Dense(1164))\n",
    "    model.add(Dropout(.5))\n",
    "    model.add(Activation('relu'))\n",
    "    model.add(Dense(100))\n",
    "    model.add(Dropout(.5))\n",
    "    model.add(Activation('relu'))\n",
    "    model.add(Dense(50))\n",
    "    model.add(Dropout(.5))\n",
    "    model.add(Activation('relu'))\n",
    "    model.add(Dense(10))\n",
    "    model.add(Dropout(.5))\n",
    "    model.add(Activation('relu'))\n",
    "    model.add(Dense(1))\n",
    "\n",
    "    model.summary()\n",
    "    # model compile\n",
    "    #model = Sequential(layers)\n",
    "\n",
    "    optimizer = keras.optimizers.Adam(lr=learnrate)\n",
    "\n",
    "    # Patch changed to mae\n",
    "    model.compile(\n",
    "        loss=\"mse\",\n",
    "        optimizer=optimizer,\n",
    "    )\n",
    "    return model\n",
    "x = create_new_model()"
   ]
  },
  {
   "cell_type": "code",
   "execution_count": null,
   "metadata": {
    "collapsed": true,
    "deletable": true,
    "editable": true
   },
   "outputs": [],
   "source": []
  },
  {
   "cell_type": "code",
   "execution_count": null,
   "metadata": {
    "collapsed": false,
    "deletable": true,
    "editable": true
   },
   "outputs": [],
   "source": [
    "import os\n",
    "import csv\n",
    "import cv2\n",
    "\n",
    "import sklearn\n",
    "from sklearn.model_selection import train_test_split\n",
    "import keras\n",
    "from keras.models import Sequential\n",
    "from keras.layers import Dense, Flatten, Lambda, Cropping2D, Convolution2D, MaxPooling2D, Dropout\n",
    "import numpy as np\n",
    "import matplotlib.pyplot as plt\n",
    "\n",
    "# settings\n",
    "# limit images loaded in memory by setting batch limit for generator\n",
    "IMG_BATCH_SIZE = 128\n",
    "# path to folder where data is kept\n",
    "PATH_TO_DATA_FOLDER = 'data'\n",
    "# data heirachy should be one more dir deep as this may contain multiple dirs\n",
    "#   which contain different training data\n",
    "\n",
    "LOG_FILE = 'driving_log.csv'\n",
    "\n",
    "# for each dir entry, training data is fetched from corresponding subdirectory\n",
    "# TODO add all folders\n",
    "PATHS_TO_IMG_FOLDERS = ['data_center',] # 'data_ori', 'data_lap', 'data_reverse']\n",
    "#'data_ori']#, 'data_sides', 'data_lap', 'data_reverse']\n",
    "PATH_TO_IMG = 'IMG'\n",
    "\n",
    "# for each dir entry, all images found will be augmented by horizontal flip\n",
    "AUGMENT_DATA = ['data', 'data_2', 'data_center', 'data_ori', 'data_sides', 'data_lap', 'data_reverse']\n",
    "# for each dir entry, all images will be replicated dict value times\n",
    "# TODO change to 10\n",
    "# Should not be a multiple of 5 for keeping sample counts estimation simple\n",
    "MUTATE_DATA = {'data_center': 1, 'data_sides': 1}\n",
    "\n",
    "# inputs\n",
    "# center, left, right\n",
    "STEERING_CORRECTION_FACTORS = [0, 1.0 / 10, -1.0 / 10]\n",
    "\n",
    "# TODO set to True\n",
    "INCLUDE_SIDES = False\n",
    "# set to false to also augment side images\n",
    "AUGMENT_CENTER_ONLY = True\n",
    "\n",
    "# Mulitplier for counting total training samples after augmentation\n",
    "camera_sides = (3 if INCLUDE_SIDES else 1)\n",
    "AUGMENTED_SAMPLE_MULTIPLIER = camera_sides + (1 if AUGMENT_CENTER_ONLY else camera_sides)\n",
    "\n",
    "samples = []\n",
    "sample_count = 0\n",
    "for folder in PATHS_TO_IMG_FOLDERS:\n",
    "        log_file_path = os.path.join(PATH_TO_DATA_FOLDER, folder, LOG_FILE)\n",
    "        count = 0\n",
    "        with open(log_file_path) as logs:\n",
    "            reader = csv.reader(logs)\n",
    "            for row in reader:\n",
    "                if row[0] == \"center\":\n",
    "                    continue\n",
    "                row.append(folder)\n",
    "                samples.append(row)\n",
    "                count += 1\n",
    "        if folder in MUTATE_DATA:\n",
    "            count *= MUTATE_DATA[folder]\n",
    "        sample_count += count\n",
    "\n",
    "# count of total samples to be processed\n",
    "sample_count *= AUGMENTED_SAMPLE_MULTIPLIER\n",
    "\n",
    "\n",
    "# loading data\n",
    "def get_batch(samples, side_images=True):\n",
    "    \"\"\"Returns next (images, angle of steering) batch\"\"\"\n",
    "    while True:\n",
    "        samples = sklearn.utils.shuffle(samples)\n",
    "        count_b = 0\n",
    "        images = []\n",
    "        ang = []\n",
    "        for row in samples:\n",
    "            folder = row[-1]\n",
    "\n",
    "            # fetches image from given path\n",
    "            def get_img(img_entry):\n",
    "                path = os.path.join(PATH_TO_DATA_FOLDER, folder, PATH_TO_IMG,\n",
    "                                    img_entry.split('/')[-1])\n",
    "                return cv2.imread(path)\n",
    "\n",
    "            if side_images:\n",
    "                images_to_add = [get_img(row[i]) for i in range(3)]\n",
    "                angs_to_add = [float(row[3]) + offset for offset in STEERING_CORRECTION_FACTORS]\n",
    "            else:\n",
    "                images_to_add = [get_img(row[0]), ]\n",
    "                angs_to_add = [float(row[3]), ]\n",
    "\n",
    "            # augmenting image by flipping horizontally\n",
    "            if folder in AUGMENT_DATA:\n",
    "                if not AUGMENT_CENTER_ONLY:\n",
    "                    # augment all cameras\n",
    "                    images_to_add.extend([cv2.flip(image, 1) for image in images_to_add])\n",
    "                    angs_to_add.extend([angle * -1 for angle in angs_to_add])\n",
    "                else:\n",
    "                    # augment center camera image only\n",
    "                    images_to_add.append(cv2.flip(images_to_add[0], 1))\n",
    "                    angs_to_add.append(angs_to_add[0] * -1)\n",
    "\n",
    "            # mutating data by replicating it `n` times given by dict val\n",
    "            # TODO sample weights as replacement for replication?\n",
    "            if folder in MUTATE_DATA:\n",
    "                images_to_add = list(map(lambda x: x.copy(),\n",
    "                                         images_to_add * MUTATE_DATA[folder]))\n",
    "                angs_to_add = angs_to_add * MUTATE_DATA[folder]\n",
    "\n",
    "            # adding obtained data to list\n",
    "            images.extend(images_to_add)\n",
    "            ang.extend(angs_to_add)\n",
    "\n",
    "            # yielding current batch\n",
    "            if len(images) >= IMG_BATCH_SIZE:\n",
    "                count_b += len(images)\n",
    "                # TODO shuffle each batch?\n",
    "                print (len(images))\n",
    "                print (np.array(images).shape)\n",
    "                yield (np.array(images),\n",
    "                       np.array(ang))\n",
    "                images = []\n",
    "                ang = []\n",
    "\n",
    "        count_b += len(images)\n",
    "        print (len(images))\n",
    "        print (type(imges))\n",
    "        print (np.array(images).shape)\n",
    "        print (len(ang))\n",
    "        print (type(ang))\n",
    "        print (np.array(images).shape)\n",
    "        yield (np.array(images),\n",
    "               np.array(ang))\n",
    "\n",
    "\n",
    "# model\n",
    "# hyperparams\n",
    "epochs = 10\n",
    "# batch_size = 100\n",
    "learnrate = 0.001\n",
    "\n",
    "# layers\n",
    "layers = [\n",
    "    # preprocessing\n",
    "    Lambda(lambda x: x / 255.0 - 0.5, input_shape=(160, 320, 3),),\n",
    "    Cropping2D(cropping=((60, 25), (0, 0))),\n",
    "\n",
    "    # conv 1\n",
    "    Convolution2D(6, 5, 5, border_mode='valid', activation='relu'),\n",
    "    MaxPooling2D((2, 2)),\n",
    "    Dropout(0.5),\n",
    "\n",
    "    # conv 2\n",
    "    Convolution2D(16, 5, 5, border_mode='valid', activation='relu'),\n",
    "    MaxPooling2D((2, 2)),\n",
    "    Dropout(0.5),\n",
    "\n",
    "#     # conv 3\n",
    "#     Convolution2D(16, 5, 5, border_mode='valid', activation='relu'),\n",
    "#     #MaxPooling2D((2, 2)),\n",
    "#     Dropout(0.5),\n",
    "\n",
    "#     # conv 4\n",
    "#     Convolution2D(8, 5, 5, border_mode='valid', activation='relu'),\n",
    "#     MaxPooling2D((2, 2)),\n",
    "#     Dropout(0.5),\n",
    "\n",
    "#     # conv 5\n",
    "#     Convolution2D(4, 5, 5, border_mode='valid', activation='relu'),\n",
    "#     MaxPooling2D((2, 2)),\n",
    "#     Dropout(0.5),\n",
    "\n",
    "    # flatten\n",
    "    Flatten(),\n",
    "\n",
    "#     # dense\n",
    "#     Dense(64, activation='relu'),\n",
    "#     Dropout(0.5),\n",
    "\n",
    "#     # dense\n",
    "#     Dense(64, activation='relu'),\n",
    "#     Dropout(0.5),\n",
    "\n",
    "    # dense\n",
    "    Dense(32, activation='relu'),\n",
    "    Dropout(0.5),\n",
    "\n",
    "    # dense\n",
    "    Dense(1,),\n",
    "]\n",
    "\n",
    "# model compile\n",
    "model = Sequential(layers)\n",
    "\n",
    "optimizer = keras.optimizers.Adam(lr=learnrate)\n",
    "\n",
    "model.compile(\n",
    "    loss=\"mse\",\n",
    "    optimizer=optimizer,\n",
    ")\n",
    "\n",
    "# shuffling samples\n",
    "# TODO change to inplace shuffling with np.random.shuffle\n",
    "samples = sklearn.utils.shuffle(samples)\n",
    "\n",
    "training_samples, validation_samples = samples[:len(samples) // 5], samples[len(samples) // 5:]\n",
    "\n",
    "validation_sample_size = sample_count // 5\n",
    "training_sample_size = sample_count - validation_sample_size\n",
    "\n",
    "train_gen = get_batch(training_samples, INCLUDE_SIDES)\n",
    "validation_gen = get_batch(validation_samples, INCLUDE_SIDES)\n",
    "\n",
    "print (\"training {} samples.\".format(sample_count))\n",
    "\n",
    "history_object = model.fit_generator(train_gen, samples_per_epoch=training_sample_size,\n",
    "                                     nb_epoch=epochs, validation_data=validation_gen,\n",
    "                                     nb_val_samples=validation_sample_size,)\n",
    "\n",
    "### print the keys contained in the history object\n",
    "print(history_object.history.keys())\n",
    "\n",
    "# saving history object\n",
    "import pickle\n",
    "with open('history.pk', 'wb') as handle:\n",
    "    pickle.dump(history_object.history, handle, protocol=pickle.HIGHEST_PROTOCOL)\n",
    "\n",
    "### plot the training and validation loss for each epoch\n",
    "# plt.plot(history_object.history['loss'])\n",
    "# plt.plot(history_object.history['val_loss'])\n",
    "# plt.title('model mean squared error loss')\n",
    "# plt.ylabel('mean squared error loss')\n",
    "# plt.xlabel('epoch')\n",
    "# plt.legend(['training set', 'validation set'], loc='upper right')\n",
    "# plt.show()\n",
    "\n",
    "# model.save('model.h5')\n",
    "\n",
    "# TODO evaluation\n"
   ]
  },
  {
   "cell_type": "markdown",
   "metadata": {
    "deletable": true,
    "editable": true
   },
   "source": [
    "# behaviour cloning solution\n",
    "\n"
   ]
  },
  {
   "cell_type": "code",
   "execution_count": null,
   "metadata": {
    "collapsed": false,
    "deletable": true,
    "editable": true
   },
   "outputs": [],
   "source": [
    "import os\n",
    "import csv\n",
    "import cv2\n",
    "\n",
    "import sklearn\n",
    "from sklearn.model_selection import train_test_split\n",
    "import keras\n",
    "from keras.models import Sequential\n",
    "from keras.layers import Dense, Flatten, Lambda, Cropping2D, Convolution2D, MaxPooling2D, Dropout\n",
    "import numpy as np\n",
    "import matplotlib.pyplot as plt\n",
    "\n",
    "# settings\n",
    "# limit images loaded in memory by setting batch limit for generator\n",
    "IMG_BATCH_SIZE = 128\n",
    "# path to folder where data is kept\n",
    "PATH_TO_DATA_FOLDER = 'data'\n",
    "# data heirachy should be one more dir deep as this may contain multiple dirs\n",
    "#   which contain different training data\n",
    "\n",
    "LOG_FILE = 'driving_log.csv'"
   ]
  },
  {
   "cell_type": "code",
   "execution_count": null,
   "metadata": {
    "collapsed": false,
    "deletable": true,
    "editable": true
   },
   "outputs": [],
   "source": [
    "# for each dir entry, training data is fetched from corresponding subdirectory\n",
    "# TODO add all folders\n",
    "PATHS_TO_IMG_FOLDERS = ['data_sides', 'data_ori', 'data_lap', 'data_reverse']\n",
    "#'data_ori']#, 'data_sides', 'data_lap', 'data_reverse']\n",
    "PATH_TO_IMG = 'IMG'\n",
    "\n",
    "# for each dir entry, all images found will be augmented by horizontal flip\n",
    "AUGMENT_DATA = ['data', 'data_2', 'data_center', 'data_ori', 'data_sides', 'data_lap', 'data_reverse']\n",
    "# for each dir entry, all images will be replicated dict value times\n",
    "# TODO change to 10\n",
    "# Should not be a multiple of 5 for keeping sample counts estimation simple\n",
    "MUTATE_DATA = {'data_center': 1, 'data_sides': 1}\n",
    "\n",
    "# inputs\n",
    "# center, left, right\n",
    "STEERING_CORRECTION_FACTORS = [0, 1.0 / 10, -1.0 / 10]\n",
    "\n",
    "# TODO set to True\n",
    "INCLUDE_SIDES = False\n",
    "# set to false to also augment side images\n",
    "AUGMENT_CENTER_ONLY = True\n",
    "\n",
    "# Mulitplier for counting total training samples after augmentation\n",
    "camera_sides = (3 if INCLUDE_SIDES else 1)\n",
    "AUGMENTED_SAMPLE_MULTIPLIER = camera_sides + (1 if AUGMENT_CENTER_ONLY else camera_sides)\n"
   ]
  },
  {
   "cell_type": "markdown",
   "metadata": {
    "deletable": true,
    "editable": true
   },
   "source": [
    "## Visualize Data\n",
    "\n",
    "View a sample from the dataset.\n",
    "\n",
    "You do not need to modify this section."
   ]
  },
  {
   "cell_type": "code",
   "execution_count": null,
   "metadata": {
    "collapsed": false,
    "deletable": true,
    "editable": true
   },
   "outputs": [],
   "source": [
    "\n",
    "samples = []\n",
    "sample_count = 0\n",
    "for folder in PATHS_TO_IMG_FOLDERS:\n",
    "        log_file_path = os.path.join(PATH_TO_DATA_FOLDER, folder, LOG_FILE)\n",
    "        count = 0\n",
    "        with open(log_file_path) as logs:\n",
    "            reader = csv.reader(logs)\n",
    "            for row in reader:\n",
    "                if row[0] == \"center\":\n",
    "                    continue\n",
    "                row.append(folder)\n",
    "                samples.append(row)\n",
    "                count += 1\n",
    "        if folder in MUTATE_DATA:\n",
    "            count *= MUTATE_DATA[folder]\n",
    "        sample_count += count\n",
    "\n",
    "# count of total samples to be processed\n",
    "sample_count *= AUGMENTED_SAMPLE_MULTIPLIER\n",
    "\n",
    "\n",
    "# loading data\n",
    "def get_batch(samples, side_images=True):\n",
    "    \"\"\"Returns next (images, angle of steering) batch\"\"\"\n",
    "    while True:\n",
    "        samples = sklearn.utils.shuffle(samples)\n",
    "        count_b = 0\n",
    "        images = []\n",
    "        ang = []\n",
    "        for row in samples:\n",
    "            folder = row[-1]\n",
    "\n",
    "            # fetches image from given path\n",
    "            def get_img(img_entry):\n",
    "                path = os.path.join(PATH_TO_DATA_FOLDER, folder, PATH_TO_IMG,\n",
    "                                    img_entry.split('/')[-1])\n",
    "                return cv2.imread(path)\n",
    "\n",
    "            if side_images:\n",
    "                images_to_add = [get_img(row[i]) for i in range(3)]\n",
    "                angs_to_add = [float(row[3]) + offset for offset in STEERING_CORRECTION_FACTORS]\n",
    "            else:\n",
    "                images_to_add = [get_img(row[0]), ]\n",
    "                angs_to_add = [float(row[3]), ]\n",
    "\n",
    "            # augmenting image by flipping horizontally\n",
    "            if folder in AUGMENT_DATA:\n",
    "                if not AUGMENT_CENTER_ONLY:\n",
    "                    # augment all cameras\n",
    "                    images_to_add.extend([cv2.flip(image, 1) for image in images_to_add])\n",
    "                    angs_to_add.extend([angle * -1 for angle in angs_to_add])\n",
    "                else:\n",
    "                    # augment center camera image only\n",
    "                    images_to_add.append(cv2.flip(images_to_add[0], 1))\n",
    "                    angs_to_add.append(angs_to_add[0] * -1)\n",
    "\n",
    "            # mutating data by replicating it `n` times given by dict val\n",
    "            # TODO sample weights as replacement for replication?\n",
    "            if folder in MUTATE_DATA:\n",
    "                images_to_add = list(map(lambda x: x.copy(),\n",
    "                                         images_to_add * MUTATE_DATA[folder]))\n",
    "                angs_to_add = angs_to_add * MUTATE_DATA[folder]\n",
    "\n",
    "            # adding obtained data to list\n",
    "            images.extend(images_to_add)\n",
    "            ang.extend(angs_to_add)\n",
    "\n",
    "            # yielding current batch\n",
    "            if len(images) >= IMG_BATCH_SIZE:\n",
    "                count_b += len(images)\n",
    "                # TODO shuffle each batch?\n",
    "                yield (np.array(images),\n",
    "                       np.array(ang))\n",
    "                images = []\n",
    "                ang = []\n",
    "\n",
    "        count_b += len(images)\n",
    "        yield (np.array(images),\n",
    "               np.array(ang))\n",
    "\n"
   ]
  },
  {
   "cell_type": "markdown",
   "metadata": {
    "deletable": true,
    "editable": true
   },
   "source": [
    "## Preprocess Data\n",
    "\n",
    "Shuffle the training data.\n",
    "\n",
    "You do not need to modify this section."
   ]
  },
  {
   "cell_type": "code",
   "execution_count": null,
   "metadata": {
    "collapsed": false,
    "deletable": true,
    "editable": true
   },
   "outputs": [],
   "source": [
    "\n",
    "# model\n",
    "# hyperparams\n",
    "epochs = 10\n",
    "# batch_size = 100\n",
    "learnrate = 0.001\n",
    "\n",
    "# layers\n",
    "layers = [\n",
    "    # preprocessing\n",
    "    Lambda(lambda x: x / 255.0 - 0.5, input_shape=(160, 320, 3),),\n",
    "    Cropping2D(cropping=((60, 25), (0, 0))),\n",
    "\n",
    "    # conv 1\n",
    "    Convolution2D(32, 5, 5, border_mode='valid', activation='relu'),\n",
    "    MaxPooling2D((2, 2)),\n",
    "    Dropout(0.5),\n",
    "\n",
    "    # conv 2\n",
    "    Convolution2D(16, 5, 5, border_mode='valid', activation='relu'),\n",
    "    MaxPooling2D((2, 2)),\n",
    "    Dropout(0.5),\n",
    "\n",
    "    # conv 3\n",
    "    Convolution2D(16, 5, 5, border_mode='valid', activation='relu'),\n",
    "    #MaxPooling2D((2, 2)),\n",
    "    Dropout(0.5),\n",
    "\n",
    "    # conv 4\n",
    "    Convolution2D(8, 5, 5, border_mode='valid', activation='relu'),\n",
    "    #MaxPooling2D((2, 2)),\n",
    "    Dropout(0.5),\n",
    "\n",
    "    # conv 5\n",
    "    Convolution2D(4, 5, 5, border_mode='valid', activation='relu'),\n",
    "    #MaxPooling2D((2, 2)),\n",
    "    Dropout(0.5),\n",
    "\n",
    "    # flatten\n",
    "    Flatten(),\n",
    "\n",
    "    # dense\n",
    "    Dense(64, activation='relu'),\n",
    "    Dropout(0.5),\n",
    "\n",
    "    # dense\n",
    "    Dense(64, activation='relu'),\n",
    "    Dropout(0.5),\n",
    "\n",
    "    # dense\n",
    "    Dense(32, activation='relu'),\n",
    "    Dropout(0.5),\n",
    "\n",
    "    # dense\n",
    "    Dense(1,),\n",
    "]\n",
    "\n",
    "# model compile\n",
    "model = Sequential(layers)\n",
    "\n",
    "optimizer = keras.optimizers.Adam(lr=learnrate)\n",
    "\n",
    "model.compile(\n",
    "    loss=\"mse\",\n",
    "    optimizer=optimizer,\n",
    ")\n"
   ]
  },
  {
   "cell_type": "markdown",
   "metadata": {
    "deletable": true,
    "editable": true
   },
   "source": [
    "## Setup TensorFlow\n",
    "The `EPOCH` and `BATCH_SIZE` values affect the training speed and model accuracy.\n",
    "\n",
    "You do not need to modify this section."
   ]
  },
  {
   "cell_type": "code",
   "execution_count": null,
   "metadata": {
    "collapsed": false,
    "deletable": true,
    "editable": true
   },
   "outputs": [],
   "source": [
    "\n",
    "# shuffling samples\n",
    "# TODO change to inplace shuffling with np.random.shuffle\n",
    "samples = sklearn.utils.shuffle(samples)\n",
    "\n",
    "training_samples, validation_samples = samples[:len(samples) // 5], samples[len(samples) // 5:]\n",
    "\n",
    "validation_sample_size = sample_count // 5\n",
    "training_sample_size = sample_count - validation_sample_size\n",
    "\n",
    "train_gen = get_batch(training_samples, INCLUDE_SIDES)\n",
    "validation_gen = get_batch(validation_samples, INCLUDE_SIDES)\n",
    "\n",
    "print (\"training {} samples.\".format(sample_count))\n",
    "\n",
    "history_object = model.fit_generator(train_gen, samples_per_epoch=training_sample_size,\n",
    "                                     nb_epoch=epochs, validation_data=validation_gen,\n",
    "                                     nb_val_samples=validation_sample_size,)\n"
   ]
  },
  {
   "cell_type": "markdown",
   "metadata": {
    "deletable": true,
    "editable": true
   },
   "source": [
    "## SOLUTION: Implement LeNet-5\n",
    "Implement the [LeNet-5](http://yann.lecun.com/exdb/lenet/) neural network architecture.\n",
    "\n",
    "This is the only cell you need to edit.\n",
    "### Input\n",
    "The LeNet architecture accepts a 32x32xC image as input, where C is the number of color channels. Since MNIST images are grayscale, C is 1 in this case.\n",
    "\n",
    "### Architecture\n",
    "**Layer 1: Convolutional.** The output shape should be 28x28x6.\n",
    "\n",
    "**Activation.** Your choice of activation function.\n",
    "\n",
    "**Pooling.** The output shape should be 14x14x6.\n",
    "\n",
    "**Layer 2: Convolutional.** The output shape should be 10x10x16.\n",
    "\n",
    "**Activation.** Your choice of activation function.\n",
    "\n",
    "**Pooling.** The output shape should be 5x5x16.\n",
    "\n",
    "**Flatten.** Flatten the output shape of the final pooling layer such that it's 1D instead of 3D. The easiest way to do is by using `tf.contrib.layers.flatten`, which is already imported for you.\n",
    "\n",
    "**Layer 3: Fully Connected.** This should have 120 outputs.\n",
    "\n",
    "**Activation.** Your choice of activation function.\n",
    "\n",
    "**Layer 4: Fully Connected.** This should have 84 outputs.\n",
    "\n",
    "**Activation.** Your choice of activation function.\n",
    "\n",
    "**Layer 5: Fully Connected (Logits).** This should have 10 outputs.\n",
    "\n",
    "### Output\n",
    "Return the result of the 2nd fully connected layer."
   ]
  },
  {
   "cell_type": "code",
   "execution_count": null,
   "metadata": {
    "collapsed": true,
    "deletable": true,
    "editable": true
   },
   "outputs": [],
   "source": [
    "from tensorflow.contrib.layers import flatten\n",
    "\n",
    "def LeNet(x):    \n",
    "    # Arguments used for tf.truncated_normal, randomly defines variables for the weights and biases for each layer\n",
    "    mu = 0\n",
    "    sigma = 0.1\n",
    "    \n",
    "    # SOLUTION: Layer 1: Convolutional. Input = 32x32x3. Output = 28x28x6.\n",
    "    conv1_W = tf.Variable(tf.truncated_normal(shape=(5, 5, 3, 6), mean = mu, stddev = sigma))\n",
    "    conv1_b = tf.Variable(tf.zeros(6))\n",
    "    conv1   = tf.nn.conv2d(x, conv1_W, strides=[1, 1, 1, 1], padding='VALID') + conv1_b\n",
    "\n",
    "    # SOLUTION: Activation.\n",
    "    conv1 = tf.nn.relu(conv1)\n",
    "\n",
    "    # SOLUTION: Pooling. Input = 28x28x6. Output = 14x14x6.\n",
    "    conv1 = tf.nn.max_pool(conv1, ksize=[1, 2, 2, 1], strides=[1, 2, 2, 1], padding='VALID')\n",
    "\n",
    "    # SOLUTION: Layer 2: Convolutional. Output = 10x10x16.\n",
    "    conv2_W = tf.Variable(tf.truncated_normal(shape=(5, 5, 6, 16), mean = mu, stddev = sigma))\n",
    "    conv2_b = tf.Variable(tf.zeros(16))\n",
    "    conv2   = tf.nn.conv2d(conv1, conv2_W, strides=[1, 1, 1, 1], padding='VALID') + conv2_b\n",
    "    \n",
    "    # SOLUTION: Activation.\n",
    "    conv2 = tf.nn.relu(conv2)\n",
    "\n",
    "    # SOLUTION: Pooling. Input = 10x10x16. Output = 5x5x16.\n",
    "    conv2 = tf.nn.max_pool(conv2, ksize=[1, 2, 2, 1], strides=[1, 2, 2, 1], padding='VALID')\n",
    "\n",
    "    # SOLUTION: Flatten. Input = 5x5x16. Output = 400.\n",
    "    fc0   = flatten(conv2)\n",
    "    \n",
    "    # SOLUTION: Layer 3: Fully Connected. Input = 400. Output = 120.\n",
    "    fc1_W = tf.Variable(tf.truncated_normal(shape=(400, 120), mean = mu, stddev = sigma))\n",
    "    fc1_b = tf.Variable(tf.zeros(120))\n",
    "    fc1   = tf.matmul(fc0, fc1_W) + fc1_b\n",
    "    \n",
    "    # SOLUTION: Activation.\n",
    "    fc1    = tf.nn.relu(fc1)\n",
    "\n",
    "    # SOLUTION: Layer 4: Fully Connected. Input = 120. Output = 84.\n",
    "    fc2_W  = tf.Variable(tf.truncated_normal(shape=(120, 84), mean = mu, stddev = sigma))\n",
    "    fc2_b  = tf.Variable(tf.zeros(84))\n",
    "    fc2    = tf.matmul(fc1, fc2_W) + fc2_b\n",
    "    \n",
    "    # SOLUTION: Activation.\n",
    "    fc2    = tf.nn.relu(fc2)\n",
    "\n",
    "    # SOLUTION: Layer 5: Fully Connected. Input = 84. Output = 43.\n",
    "    fc3_W  = tf.Variable(tf.truncated_normal(shape=(84, 43), mean = mu, stddev = sigma))\n",
    "    fc3_b  = tf.Variable(tf.zeros(43))\n",
    "    logits = tf.matmul(fc2, fc3_W) + fc3_b\n",
    "    \n",
    "    return logits"
   ]
  },
  {
   "cell_type": "markdown",
   "metadata": {
    "deletable": true,
    "editable": true
   },
   "source": [
    "## Features and Labels\n",
    "Train LeNet to classify [MNIST](http://yann.lecun.com/exdb/mnist/) data.\n",
    "\n",
    "`x` is a placeholder for a batch of input images.\n",
    "`y` is a placeholder for a batch of output labels.\n",
    "\n",
    "You do not need to modify this section."
   ]
  },
  {
   "cell_type": "code",
   "execution_count": null,
   "metadata": {
    "collapsed": false,
    "deletable": true,
    "editable": true
   },
   "outputs": [],
   "source": [
    "x = tf.placeholder(tf.float32, (None, 32, 32, 3))\n",
    "y = tf.placeholder(tf.int32, (None))\n",
    "one_hot_y = tf.one_hot(y, 43)"
   ]
  },
  {
   "cell_type": "markdown",
   "metadata": {
    "deletable": true,
    "editable": true
   },
   "source": [
    "## Training Pipeline\n",
    "Create a training pipeline that uses the model to classify MNIST data.\n",
    "\n",
    "You do not need to modify this section."
   ]
  },
  {
   "cell_type": "code",
   "execution_count": null,
   "metadata": {
    "collapsed": false,
    "deletable": true,
    "editable": true
   },
   "outputs": [],
   "source": [
    "rate = 0.001\n",
    "\n",
    "logits = LeNet(x)\n",
    "cross_entropy = tf.nn.softmax_cross_entropy_with_logits(labels=one_hot_y, logits=logits)\n",
    "loss_operation = tf.reduce_mean(cross_entropy)\n",
    "optimizer = tf.train.AdamOptimizer(learning_rate = rate)\n",
    "training_operation = optimizer.minimize(loss_operation)"
   ]
  },
  {
   "cell_type": "markdown",
   "metadata": {
    "deletable": true,
    "editable": true
   },
   "source": [
    "## Model Evaluation\n",
    "Evaluate how well the loss and accuracy of the model for a given dataset.\n",
    "\n",
    "You do not need to modify this section."
   ]
  },
  {
   "cell_type": "code",
   "execution_count": null,
   "metadata": {
    "collapsed": true,
    "deletable": true,
    "editable": true
   },
   "outputs": [],
   "source": [
    "correct_prediction = tf.equal(tf.argmax(logits, 1), tf.argmax(one_hot_y, 1))\n",
    "accuracy_operation = tf.reduce_mean(tf.cast(correct_prediction, tf.float32))\n",
    "saver = tf.train.Saver()\n",
    "\n",
    "def evaluate(X_data, y_data):\n",
    "    num_examples = len(X_data)\n",
    "    total_accuracy = 0\n",
    "    sess = tf.get_default_session()\n",
    "    for offset in range(0, num_examples, BATCH_SIZE):\n",
    "        batch_x, batch_y = X_data[offset:offset+BATCH_SIZE], y_data[offset:offset+BATCH_SIZE]\n",
    "        accuracy = sess.run(accuracy_operation, feed_dict={x: batch_x, y: batch_y})\n",
    "        total_accuracy += (accuracy * len(batch_x))\n",
    "    return total_accuracy / num_examples"
   ]
  },
  {
   "cell_type": "markdown",
   "metadata": {
    "deletable": true,
    "editable": true
   },
   "source": [
    "## Train the Model\n",
    "Run the training data through the training pipeline to train the model.\n",
    "\n",
    "Before each epoch, shuffle the training set.\n",
    "\n",
    "After each epoch, measure the loss and accuracy of the validation set.\n",
    "\n",
    "Save the model after training.\n",
    "\n",
    "You do not need to modify this section."
   ]
  },
  {
   "cell_type": "code",
   "execution_count": null,
   "metadata": {
    "collapsed": false,
    "deletable": true,
    "editable": true
   },
   "outputs": [],
   "source": [
    "with tf.Session() as sess:\n",
    "    sess.run(tf.global_variables_initializer())\n",
    "    num_examples = len(X_train)\n",
    "    \n",
    "    print(\"Training...\")\n",
    "    print()\n",
    "    for i in range(EPOCHS):\n",
    "        X_train, y_train = shuffle(X_train, y_train)\n",
    "        for offset in range(0, num_examples, BATCH_SIZE):\n",
    "            end = offset + BATCH_SIZE\n",
    "            batch_x, batch_y = X_train[offset:end], y_train[offset:end]\n",
    "            sess.run(training_operation, feed_dict={x: batch_x, y: batch_y})\n",
    "            \n",
    "        validation_accuracy = evaluate(X_validation, y_validation)\n",
    "        print(\"EPOCH {} ...\".format(i+1))\n",
    "        print(\"Validation Accuracy = {:.3f}\".format(validation_accuracy))\n",
    "        print()\n",
    "        \n",
    "    saver.save(sess, './lenet')\n",
    "    print(\"Model saved\")"
   ]
  },
  {
   "cell_type": "markdown",
   "metadata": {
    "deletable": true,
    "editable": true
   },
   "source": [
    "## Evaluate the Model\n",
    "Once you are completely satisfied with your model, evaluate the performance of the model on the test set.\n",
    "\n",
    "Be sure to only do this once!\n",
    "\n",
    "If you were to measure the performance of your trained model on the test set, then improve your model, and then measure the performance of your model on the test set again, that would invalidate your test results. You wouldn't get a true measure of how well your model would perform against real data.\n",
    "\n",
    "You do not need to modify this section."
   ]
  },
  {
   "cell_type": "code",
   "execution_count": null,
   "metadata": {
    "collapsed": false,
    "deletable": true,
    "editable": true
   },
   "outputs": [],
   "source": [
    "with tf.Session() as sess:\n",
    "    saver.restore(sess, tf.train.latest_checkpoint('.'))\n",
    "\n",
    "    test_accuracy = evaluate(X_test, y_test)\n",
    "    print(\"Test Accuracy = {:.3f}\".format(test_accuracy))"
   ]
  }
 ],
 "metadata": {
  "anaconda-cloud": {},
  "kernelspec": {
   "display_name": "Python 3",
   "language": "python",
   "name": "python3"
  },
  "language_info": {
   "codemirror_mode": {
    "name": "ipython",
    "version": 3
   },
   "file_extension": ".py",
   "mimetype": "text/x-python",
   "name": "python",
   "nbconvert_exporter": "python",
   "pygments_lexer": "ipython3",
   "version": "3.5.2"
  },
  "widgets": {
   "state": {},
   "version": "1.1.2"
  }
 },
 "nbformat": 4,
 "nbformat_minor": 0
}
